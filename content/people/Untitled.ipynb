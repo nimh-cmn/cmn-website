{
 "cells": [
  {
   "cell_type": "code",
   "execution_count": 109,
   "id": "74ffdad7-b74e-4f0d-8e57-737ea6bb4688",
   "metadata": {},
   "outputs": [],
   "source": [
    "import requests\n",
    "from bs4 import BeautifulSoup\n",
    "from datetime import datetime\n",
    "\n",
    "headers = {\n",
    "    'User-Agent': 'Mozilla/5.0 (Windows NT 10.0; Win64; x64) AppleWebKit/537.36 (KHTML, like Gecko) Chrome/87.0.4280.88 Safari/537.36'\n",
    "}\n",
    "\n",
    "\n",
    "def get_detail_info(person_node):\n",
    "    url = \"https://cmn.nimh.nih.gov/\" + person_node\n",
    "    response = requests.get(url, headers=headers, timeout=10)\n",
    "    soup = BeautifulSoup(response.text, 'html.parser')\n",
    "    title = soup.find('span', class_='field--name-title').text.strip()\n",
    "\n",
    "    image_url = soup.find('img', loading=\"lazy\")['src']\n",
    "    image_name = image_url.split(\"/\")[-1]\n",
    "\n",
    "    img_response = requests.get(\"https://cmn.nimh.nih.gov/\" + image_url)\n",
    "    with open(image_name, 'wb') as f:\n",
    "        f.write(img_response.content)\n",
    "        \n",
    "    # Extract the job title\n",
    "    position = \"\"\n",
    "    job_title_span = soup.find('div', class_='field--name-field-job-title')\n",
    "    if job_title_span:\n",
    "        job_title_span = job_title_span.find('div', class_='field__item')\n",
    "        position = job_title_span.text.strip() if job_title_span else \"\"\n",
    "\n",
    "    # Extract all social links\n",
    "    social_links = {}\n",
    "    links_list = soup.find('div', class_='field--name-field-links')\n",
    "    if links_list:\n",
    "        links_list = links_list.find_all('a')\n",
    "    \n",
    "        for link in links_list:\n",
    "            social_links[link.text.strip()] = link['href']\n",
    "\n",
    "    # Get the current time\n",
    "    now = datetime.now()\n",
    "    \n",
    "    # Format the time\n",
    "    formatted_time = now.strftime(\"%Y-%m-%d %H:%M\")\n",
    "\n",
    "    data =  {\n",
    "        \"Title\": title,\n",
    "        \"Position\": position,\n",
    "        \"Image\": image_name,\n",
    "        **social_links,\n",
    "        \"Slug\": person_node.split(\"/\")[-1],\n",
    "        \"Date\": formatted_time\n",
    "    }\n",
    "\n",
    "    file_name = title.replace(\" \", \"\")\n",
    "    with open(f'{file_name}.md', 'w') as file:\n",
    "        for key, value in data.items():\n",
    "            file.write(f\"{key}: {value}\\n\")\n"
   ]
  },
  {
   "cell_type": "code",
   "execution_count": 96,
   "id": "bac99351-81e9-4c5e-902a-657e31a24454",
   "metadata": {},
   "outputs": [],
   "source": [
    "base_url = 'https://cmn.nimh.nih.gov/people'\n",
    "response = requests.get(base_url, headers = headers, timeout=10)\n",
    "soup = BeautifulSoup(response.text, 'html.parser')\n",
    "\n",
    "members = soup.find_all('a', rel='bookmark')"
   ]
  },
  {
   "cell_type": "code",
   "execution_count": 122,
   "id": "adc80b91-9ebf-45f6-9d83-24021db9895b",
   "metadata": {},
   "outputs": [
    {
     "name": "stdout",
     "output_type": "stream",
     "text": [
      "0 /node/7\n",
      "1 /node/97\n",
      "2 /node/99\n",
      "3 /node/53\n",
      "4 /node/12\n",
      "5 /node/50\n",
      "6 /node/8\n",
      "7 /node/11\n",
      "8 /node/95\n",
      "9 /node/80\n",
      "10 /node/83\n",
      "11 /node/9\n",
      "12 /node/52\n",
      "13 /node/51\n",
      "14 /node/78\n",
      "15 /node/46\n",
      "16 /node/55\n",
      "17 /node/60\n",
      "18 /node/71\n",
      "19 /node/82\n",
      "20 /node/21\n",
      "21 /node/18\n",
      "22 /node/25\n",
      "23 /node/57\n",
      "24 /node/24\n",
      "25 /node/23\n",
      "26 /node/22\n"
     ]
    }
   ],
   "source": [
    "for i, m in enumerate(members):\n",
    "    print(i, m['href'])"
   ]
  },
  {
   "cell_type": "code",
   "execution_count": 126,
   "id": "9ef468f7-8db4-49e7-84f4-fadbdb2d79d8",
   "metadata": {},
   "outputs": [
    {
     "name": "stdout",
     "output_type": "stream",
     "text": [
      "/node/25\n",
      "/node/57\n",
      "/node/24\n",
      "/node/23\n",
      "/node/22\n"
     ]
    }
   ],
   "source": [
    "for member in members[22:]:\n",
    "    member_url = member['href']\n",
    "    print(member_url)\n",
    "    get_detail_info(member_url)\n",
    "    "
   ]
  }
 ],
 "metadata": {
  "kernelspec": {
   "display_name": "Python 3 (ipykernel)",
   "language": "python",
   "name": "python3"
  },
  "language_info": {
   "codemirror_mode": {
    "name": "ipython",
    "version": 3
   },
   "file_extension": ".py",
   "mimetype": "text/x-python",
   "name": "python",
   "nbconvert_exporter": "python",
   "pygments_lexer": "ipython3",
   "version": "3.12.4"
  }
 },
 "nbformat": 4,
 "nbformat_minor": 5
}
